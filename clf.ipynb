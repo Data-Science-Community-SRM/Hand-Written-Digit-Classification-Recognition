{
 "cells": [
  {
   "cell_type": "code",
   "execution_count": 10,
   "source": [
    "import warnings\r\n",
    "import pandas as pd\r\n",
    "import numpy as np\r\n",
    "import matplotlib.pyplot as plt\r\n",
    "import seaborn as sns\r\n",
    "from sklearn.neural_network import MLPClassifier\r\n",
    "from sklearn.preprocessing import StandardScaler\r\n",
    "from sklearn.model_selection import learning_curve\r\n",
    "from keras.datasets import mnist\r\n",
    "import random\r\n",
    "import pickle\r\n",
    "warnings.filterwarnings('ignore')"
   ],
   "outputs": [],
   "metadata": {}
  },
  {
   "cell_type": "code",
   "execution_count": 2,
   "source": [
    "(x_train, y_train), (x_test, y_test) = mnist.load_data()\r\n",
    "sns.countplot(y_train)"
   ],
   "outputs": [
    {
     "output_type": "execute_result",
     "data": {
      "text/plain": [
       "<AxesSubplot:ylabel='count'>"
      ]
     },
     "metadata": {},
     "execution_count": 2
    },
    {
     "output_type": "display_data",
     "data": {
      "text/plain": [
       "<Figure size 432x288 with 1 Axes>"
      ],
      "image/png": "[encoded data removed]"
     },
     "metadata": {
      "needs_background": "light"
     }
    }
   ],
   "metadata": {}
  },
  {
   "cell_type": "code",
   "execution_count": 3,
   "source": [
    "x_train = x_train.reshape(-1,28,28,1)\r\n",
    "plt.imshow(x_train[random.randint(1,1000)][:,:,0])"
   ],
   "outputs": [
    {
     "output_type": "execute_result",
     "data": {
      "text/plain": [
       "<matplotlib.image.AxesImage at 0x1ee1b503908>"
      ]
     },
     "metadata": {},
     "execution_count": 3
    },
    {
     "output_type": "display_data",
     "data": {
      "text/plain": [
       "<Figure size 432x288 with 1 Axes>"
      ],
      "image/png": "[encoded data removed]"
     },
     "metadata": {
      "needs_background": "light"
     }
    }
   ],
   "metadata": {}
  },
  {
   "cell_type": "code",
   "execution_count": 4,
   "source": [
    "x_train = x_train.reshape(60000,784)\r\n",
    "x_test = x_test.reshape(10000,784)\r\n",
    "scaler = StandardScaler()  \r\n",
    "scaler.fit(x_train)  \r\n",
    "x_train = scaler.transform(x_train)  \r\n",
    "x_test = scaler.transform(x_test)  "
   ],
   "outputs": [],
   "metadata": {}
  },
  {
   "cell_type": "code",
   "execution_count": 5,
   "source": [
    "mlp = MLPClassifier(hidden_layer_sizes=(50,), alpha=1e-4, solver='sgd', verbose=1, random_state=1, learning_rate_init=.01, warm_start=True)\r\n",
    "mlp.fit(x_train, y_train)\r\n",
    "print(\"Training set score: %f\" % mlp.score(x_train, y_train))\r\n",
    "print(\"Test set score: %f\" % mlp.score(x_test, y_test))\r\n"
   ],
   "outputs": [
    {
     "output_type": "stream",
     "name": "stdout",
     "text": [
      "Training set score: 0.999967\n",
      "Test set score: 0.970900\n"
     ]
    }
   ],
   "metadata": {}
  },
  {
   "cell_type": "code",
   "execution_count": 11,
   "source": [
    "pickle_out = open(\"clf.pkl\",\"wb\")\r\n",
    "pickle.dump(mlp,pickle_out)\r\n",
    "pickle_out.close()"
   ],
   "outputs": [],
   "metadata": {}
  }
 ],
 "metadata": {
  "orig_nbformat": 4,
  "language_info": {
   "name": "python",
   "version": "3.7.10",
   "mimetype": "text/x-python",
   "codemirror_mode": {
    "name": "ipython",
    "version": 3
   },
   "pygments_lexer": "ipython3",
   "nbconvert_exporter": "python",
   "file_extension": ".py"
  },
  "kernelspec": {
   "name": "python3",
   "display_name": "Python 3.7.10 64-bit ('myenv': conda)"
  },
  "interpreter": {
   "hash": "d3ea56757f3b3be2cb7489286f6c6d3faaec445fe5559bac28f43e7042e8a775"
  }
 },
 "nbformat": 4,
 "nbformat_minor": 2
}